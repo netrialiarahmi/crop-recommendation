{
  "nbformat": 4,
  "nbformat_minor": 0,
  "metadata": {
    "colab": {
      "provenance": []
    },
    "kernelspec": {
      "name": "python3",
      "display_name": "Python 3"
    },
    "language_info": {
      "name": "python"
    }
  },
  "cells": [
    {
      "cell_type": "code",
      "source": [
        "from google.colab import drive\n",
        "drive.mount('/content/drive')"
      ],
      "metadata": {
        "colab": {
          "base_uri": "https://localhost:8080/"
        },
        "id": "EerQRkMFa9jI",
        "outputId": "dda048d2-c2b4-49b0-9b09-71e499b43445"
      },
      "execution_count": null,
      "outputs": [
        {
          "output_type": "stream",
          "name": "stdout",
          "text": [
            "Mounted at /content/drive\n"
          ]
        }
      ]
    },
    {
      "cell_type": "markdown",
      "source": [
        "# Load Model"
      ],
      "metadata": {
        "id": "05k2hYf1jMVw"
      }
    },
    {
      "cell_type": "code",
      "source": [
        "# !pip install --upgrade tensorflow"
      ],
      "metadata": {
        "id": "0hz6D2h_lhaV"
      },
      "execution_count": null,
      "outputs": []
    },
    {
      "cell_type": "code",
      "source": [
        "import tensorflow as tf\n",
        "\n",
        "model = tf.keras.models.load_model(\"/content/drive/MyDrive/Capstone/Model/Checkpoint/TanamPintar_Model.h5\")\n",
        "tf.saved_model.save(model, \"/content/drive/MyDrive/Capstone/Model/Checkpoint/TanamPintar_Model_new.h5\")"
      ],
      "metadata": {
        "id": "yNvpDM_xQxa_"
      },
      "execution_count": null,
      "outputs": []
    },
    {
      "cell_type": "markdown",
      "source": [
        "# Convert to JSON"
      ],
      "metadata": {
        "id": "Kxk94XrvYnjO"
      }
    },
    {
      "cell_type": "code",
      "source": [
        "!tensorflowjs_converter --input_format=keras --output_format=tfjs_layers_model \"/content/drive/MyDrive/Capstone/Model/Checkpoint/TanamPintar_Model.h5\" \"/content/drive/MyDrive/Capstone/Model/Checkpoint/TanamPintar_Model_JSON\""
      ],
      "metadata": {
        "colab": {
          "base_uri": "https://localhost:8080/"
        },
        "id": "etieJMhyRHR_",
        "outputId": "718d1853-3904-445a-b1c8-5c05de23520b"
      },
      "execution_count": null,
      "outputs": [
        {
          "output_type": "stream",
          "name": "stdout",
          "text": [
            "2024-06-14 19:58:26.721608: W tensorflow/compiler/tf2tensorrt/utils/py_utils.cc:38] TF-TRT Warning: Could not find TensorRT\n",
            "failed to lookup keras version from the file,\n",
            "    this is likely a weight only file\n"
          ]
        }
      ]
    },
    {
      "cell_type": "markdown",
      "source": [
        "# Save Model"
      ],
      "metadata": {
        "id": "anTwn9y4kWLI"
      }
    },
    {
      "cell_type": "code",
      "source": [
        "# import tensorflow as tf\n",
        "# from tensorflow import keras\n",
        "# from keras.models import load_model\n",
        "# model = load_model('/content/drive/MyDrive/Capstone/Model/TanamPintar_Fixbanget.h5')"
      ],
      "metadata": {
        "colab": {
          "base_uri": "https://localhost:8080/"
        },
        "id": "rT7uriyTJCmI",
        "outputId": "ecb531b4-6208-4afd-c073-75a5bfc32c19"
      },
      "execution_count": null,
      "outputs": [
        {
          "output_type": "stream",
          "name": "stderr",
          "text": [
            "WARNING:absl:Compiled the loaded model, but the compiled metrics have yet to be built. `model.compile_metrics` will be empty until you train or evaluate the model.\n"
          ]
        }
      ]
    },
    {
      "cell_type": "code",
      "source": [
        "# saved_model_path = '/content/drive/MyDrive/Capstone/Model/TanamPintar_Fixbanget.h5'\n",
        "# model.save(saved_model_path)"
      ],
      "metadata": {
        "id": "NA_USU3wVyaO"
      },
      "execution_count": null,
      "outputs": []
    },
    {
      "cell_type": "markdown",
      "source": [
        "# Convert Model to JSON"
      ],
      "metadata": {
        "id": "CK8jiKxMkX9-"
      }
    },
    {
      "cell_type": "code",
      "source": [
        "# !tensorflowjs_converter --input_format=keras {saved_model_path} '/content/drive/MyDrive/Capstone/Model/TanamPintar_Fixbanget_JSON'"
      ],
      "metadata": {
        "id": "SEzvxGko7W_z"
      },
      "execution_count": null,
      "outputs": []
    },
    {
      "cell_type": "code",
      "source": [
        "# # Path ke model Keras (.h5)\n",
        "# keras_model_path = '/content/drive/MyDrive/Capstone/Model/TanamPintar_Fixbanget.h5'\n",
        "\n",
        "# # Path untuk menyimpan model TensorFlow Lite (.tflite)\n",
        "# tflite_model_path = '/content/drive/MyDrive/Capstone/Model/TanamPintar_Fixbanget.tflite'\n",
        "\n",
        "# # Load model Keras dari file .h5\n",
        "# keras_model = tf.keras.models.load_model(keras_model_path)\n",
        "\n",
        "# # Konversi model Keras ke TensorFlow Lite dengan optimasi\n",
        "# converter = tf.lite.TFLiteConverter.from_keras_model(keras_model)\n",
        "# converter.optimizations = [tf.lite.Optimize.DEFAULT]\n",
        "# tflite_model = converter.convert()\n",
        "\n",
        "# # Simpan model TensorFlow Lite ke file .tflite\n",
        "# with open(tflite_model_path, 'wb') as f:\n",
        "#     f.write(tflite_model)\n",
        "\n",
        "# print(f'Model TFLite telah disimpan di: {tflite_model_path}')"
      ],
      "metadata": {
        "id": "m_eAI5mAlY0B"
      },
      "execution_count": null,
      "outputs": []
    },
    {
      "cell_type": "code",
      "source": [
        "# my_model = tf.keras.models.load_model('/content/drive/MyDrive/Capstone/Model/TanamPintar_Fixbanget.h5')"
      ],
      "metadata": {
        "id": "TyZZsVGJQjiY"
      },
      "execution_count": null,
      "outputs": []
    },
    {
      "cell_type": "code",
      "source": [
        "# converter = tf.lite.TFLiteConverter.from_keras_model(model)\n",
        "# converter.experimental_new_converter = True\n",
        "# converter.optimizations = [tf.lite.Optimize.DEFAULT]\n",
        "# tflite_model = converter.convert()\n",
        "# open('/content/drive/MyDrive/Capstone/Model/TanamPintar_Fixbanget.tflite', 'wb').write(tflite_model)"
      ],
      "metadata": {
        "id": "Wvtu49neRRmI"
      },
      "execution_count": null,
      "outputs": []
    },
    {
      "cell_type": "code",
      "source": [
        "# from tensorflow.keras.models import load_model\n",
        "\n",
        "# model = load_model('path/to/keras_model.h5')\n",
        "# model.save('path/to/keras_model_new.h5')\n",
        "\n",
        "# tensorflowjs_converter --input_format=keras --output_format=tfjs_layers_model path/to/keras_model.h5 path/to/tfjs_model\n",
        "\n",
        "# import tensorflow as tf\n",
        "\n",
        "# model = tf.keras.models.load_model('path/to/keras_model.h5')\n",
        "# tf.saved_model.save(model, 'path/to/saved_model')\n",
        "\n",
        "\n",
        "\n",
        "# convert :\n",
        "# tensorflowjs_converter --input_format=tf_saved_model --output_format=tfjs_graph_model path/to/saved_model path/to/tfjs_model"
      ],
      "metadata": {
        "id": "i3DlBIWkXraj"
      },
      "execution_count": null,
      "outputs": []
    }
  ]
}